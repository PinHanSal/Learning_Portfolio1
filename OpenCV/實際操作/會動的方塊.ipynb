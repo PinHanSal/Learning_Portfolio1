{
 "cells": [
  {
   "cell_type": "code",
   "execution_count": null,
   "metadata": {},
   "outputs": [],
   "source": [
    "import cv2\n",
    "import numpy as np\n",
    "import IPython.display as dp\n",
    "x = 0\n",
    "speed = 5\n",
    "while True:\n",
    "  dp.clear_output(True)\n",
    "  m1=np.full((300, 600, 3), (100, 100, 100), np.uint8)\n",
    "  cv2.rectangle(m1, (x,125), (x+50,175), (0, 0, 0), -1)\n",
    "  cv2.imshow('window',m1)\n",
    "  cv2.waitKey(3)\n",
    "  x+=speed\n",
    "  if x+50 > 600:\n",
    "    speed-=1\n",
    "  if x < 0:\n",
    "    speed+=1"
   ]
  }
 ],
 "metadata": {
  "language_info": {
   "name": "python"
  },
  "orig_nbformat": 4
 },
 "nbformat": 4,
 "nbformat_minor": 2
}
